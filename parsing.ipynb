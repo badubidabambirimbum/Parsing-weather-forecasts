{
 "cells": [
  {
   "cell_type": "code",
   "execution_count": 1,
   "metadata": {},
   "outputs": [],
   "source": [
    "import requests\n",
    "from bs4 import BeautifulSoup\n",
    "import pandas as pd\n",
    "from datetime import datetime, timedelta\n",
    "import time\n",
    "import os\n",
    "from table import table"
   ]
  },
  {
   "cell_type": "code",
   "execution_count": 2,
   "metadata": {},
   "outputs": [],
   "source": [
    "'''\n",
    "Moscow\n",
    "Krasnodar\n",
    "Ekaterinburg\n",
    "'''\n",
    "table = table()"
   ]
  },
  {
   "cell_type": "code",
   "execution_count": 3,
   "metadata": {},
   "outputs": [
    {
     "name": "stdout",
     "output_type": "stream",
     "text": [
      "GOOD backup!\n"
     ]
    }
   ],
   "source": [
    "table.backup()"
   ]
  },
  {
   "cell_type": "code",
   "execution_count": 5,
   "metadata": {},
   "outputs": [
    {
     "data": {
      "text/html": [
       "<div>\n",
       "<style scoped>\n",
       "    .dataframe tbody tr th:only-of-type {\n",
       "        vertical-align: middle;\n",
       "    }\n",
       "\n",
       "    .dataframe tbody tr th {\n",
       "        vertical-align: top;\n",
       "    }\n",
       "\n",
       "    .dataframe thead th {\n",
       "        text-align: right;\n",
       "    }\n",
       "</style>\n",
       "<table border=\"1\" class=\"dataframe\">\n",
       "  <thead>\n",
       "    <tr style=\"text-align: right;\">\n",
       "      <th></th>\n",
       "      <th>day1</th>\n",
       "      <th>day2</th>\n",
       "      <th>day3</th>\n",
       "      <th>day4</th>\n",
       "      <th>day5</th>\n",
       "      <th>day6</th>\n",
       "      <th>day7</th>\n",
       "      <th>day8</th>\n",
       "      <th>day9</th>\n",
       "      <th>day10</th>\n",
       "      <th>...</th>\n",
       "      <th>weather1</th>\n",
       "      <th>weather2</th>\n",
       "      <th>weather3</th>\n",
       "      <th>weather4</th>\n",
       "      <th>weather5</th>\n",
       "      <th>weather6</th>\n",
       "      <th>weather7</th>\n",
       "      <th>weather8</th>\n",
       "      <th>weather9</th>\n",
       "      <th>weather10</th>\n",
       "    </tr>\n",
       "    <tr>\n",
       "      <th>date</th>\n",
       "      <th></th>\n",
       "      <th></th>\n",
       "      <th></th>\n",
       "      <th></th>\n",
       "      <th></th>\n",
       "      <th></th>\n",
       "      <th></th>\n",
       "      <th></th>\n",
       "      <th></th>\n",
       "      <th></th>\n",
       "      <th></th>\n",
       "      <th></th>\n",
       "      <th></th>\n",
       "      <th></th>\n",
       "      <th></th>\n",
       "      <th></th>\n",
       "      <th></th>\n",
       "      <th></th>\n",
       "      <th></th>\n",
       "      <th></th>\n",
       "      <th></th>\n",
       "    </tr>\n",
       "  </thead>\n",
       "  <tbody>\n",
       "    <tr>\n",
       "      <th>2024-07-26</th>\n",
       "      <td>14</td>\n",
       "      <td>14</td>\n",
       "      <td>17</td>\n",
       "      <td>18</td>\n",
       "      <td>21</td>\n",
       "      <td>23</td>\n",
       "      <td>23</td>\n",
       "      <td>22</td>\n",
       "      <td>22</td>\n",
       "      <td>22</td>\n",
       "      <td>...</td>\n",
       "      <td>Дождь</td>\n",
       "      <td>Дождь</td>\n",
       "      <td>Небольшой дождь</td>\n",
       "      <td>Небольшой дождь</td>\n",
       "      <td>Облачно с прояснениями</td>\n",
       "      <td>Облачно с прояснениями</td>\n",
       "      <td>Небольшой дождь</td>\n",
       "      <td>Небольшой дождь</td>\n",
       "      <td>Небольшой дождь</td>\n",
       "      <td>Небольшой дождь</td>\n",
       "    </tr>\n",
       "    <tr>\n",
       "      <th>2024-07-27</th>\n",
       "      <td>14</td>\n",
       "      <td>16</td>\n",
       "      <td>16</td>\n",
       "      <td>22</td>\n",
       "      <td>23</td>\n",
       "      <td>23</td>\n",
       "      <td>22</td>\n",
       "      <td>22</td>\n",
       "      <td>22</td>\n",
       "      <td>22</td>\n",
       "      <td>...</td>\n",
       "      <td>Дождь</td>\n",
       "      <td>Небольшой дождь</td>\n",
       "      <td>Небольшой дождь</td>\n",
       "      <td>Пасмурно</td>\n",
       "      <td>Пасмурно</td>\n",
       "      <td>Дождь с грозой</td>\n",
       "      <td>Облачно с прояснениями</td>\n",
       "      <td>Небольшой дождь</td>\n",
       "      <td>Небольшой дождь</td>\n",
       "      <td>Небольшой дождь</td>\n",
       "    </tr>\n",
       "    <tr>\n",
       "      <th>2024-07-28</th>\n",
       "      <td>16</td>\n",
       "      <td>16</td>\n",
       "      <td>22</td>\n",
       "      <td>23</td>\n",
       "      <td>22</td>\n",
       "      <td>22</td>\n",
       "      <td>21</td>\n",
       "      <td>22</td>\n",
       "      <td>23</td>\n",
       "      <td>22</td>\n",
       "      <td>...</td>\n",
       "      <td>Небольшой дождь</td>\n",
       "      <td>Небольшой дождь</td>\n",
       "      <td>Пасмурно</td>\n",
       "      <td>Пасмурно</td>\n",
       "      <td>Дождь с грозой</td>\n",
       "      <td>Облачно с прояснениями</td>\n",
       "      <td>Небольшой дождь</td>\n",
       "      <td>Небольшой дождь</td>\n",
       "      <td>Небольшой дождь</td>\n",
       "      <td>Небольшой дождь</td>\n",
       "    </tr>\n",
       "    <tr>\n",
       "      <th>2024-07-29</th>\n",
       "      <td>17</td>\n",
       "      <td>22</td>\n",
       "      <td>22</td>\n",
       "      <td>22</td>\n",
       "      <td>21</td>\n",
       "      <td>21</td>\n",
       "      <td>21</td>\n",
       "      <td>22</td>\n",
       "      <td>22</td>\n",
       "      <td>24</td>\n",
       "      <td>...</td>\n",
       "      <td>Дождь</td>\n",
       "      <td>Пасмурно</td>\n",
       "      <td>Небольшой дождь</td>\n",
       "      <td>Пасмурно</td>\n",
       "      <td>Облачно с прояснениями</td>\n",
       "      <td>Дождь с грозой</td>\n",
       "      <td>Небольшой дождь</td>\n",
       "      <td>Небольшой дождь</td>\n",
       "      <td>Небольшой дождь</td>\n",
       "      <td>Облачно с прояснениями</td>\n",
       "    </tr>\n",
       "    <tr>\n",
       "      <th>2024-07-30</th>\n",
       "      <td>22</td>\n",
       "      <td>22</td>\n",
       "      <td>23</td>\n",
       "      <td>21</td>\n",
       "      <td>22</td>\n",
       "      <td>21</td>\n",
       "      <td>22</td>\n",
       "      <td>23</td>\n",
       "      <td>22</td>\n",
       "      <td>23</td>\n",
       "      <td>...</td>\n",
       "      <td>Пасмурно</td>\n",
       "      <td>Дождь</td>\n",
       "      <td>Пасмурно</td>\n",
       "      <td>Небольшой дождь</td>\n",
       "      <td>Небольшой дождь</td>\n",
       "      <td>Дождь с грозой</td>\n",
       "      <td>Облачно с прояснениями</td>\n",
       "      <td>Облачно с прояснениями</td>\n",
       "      <td>Небольшой дождь</td>\n",
       "      <td>Облачно с прояснениями</td>\n",
       "    </tr>\n",
       "  </tbody>\n",
       "</table>\n",
       "<p>5 rows × 30 columns</p>\n",
       "</div>"
      ],
      "text/plain": [
       "            day1  day2  day3  day4  day5  day6  day7  day8  day9  day10  ...  \\\n",
       "date                                                                     ...   \n",
       "2024-07-26    14    14    17    18    21    23    23    22    22     22  ...   \n",
       "2024-07-27    14    16    16    22    23    23    22    22    22     22  ...   \n",
       "2024-07-28    16    16    22    23    22    22    21    22    23     22  ...   \n",
       "2024-07-29    17    22    22    22    21    21    21    22    22     24  ...   \n",
       "2024-07-30    22    22    23    21    22    21    22    23    22     23  ...   \n",
       "\n",
       "                   weather1         weather2         weather3  \\\n",
       "date                                                            \n",
       "2024-07-26            Дождь            Дождь  Небольшой дождь   \n",
       "2024-07-27            Дождь  Небольшой дождь  Небольшой дождь   \n",
       "2024-07-28  Небольшой дождь  Небольшой дождь         Пасмурно   \n",
       "2024-07-29            Дождь         Пасмурно  Небольшой дождь   \n",
       "2024-07-30         Пасмурно            Дождь         Пасмурно   \n",
       "\n",
       "                   weather4                weather5                weather6  \\\n",
       "date                                                                          \n",
       "2024-07-26  Небольшой дождь  Облачно с прояснениями  Облачно с прояснениями   \n",
       "2024-07-27         Пасмурно                Пасмурно          Дождь с грозой   \n",
       "2024-07-28         Пасмурно          Дождь с грозой  Облачно с прояснениями   \n",
       "2024-07-29         Пасмурно  Облачно с прояснениями          Дождь с грозой   \n",
       "2024-07-30  Небольшой дождь         Небольшой дождь          Дождь с грозой   \n",
       "\n",
       "                          weather7                weather8         weather9  \\\n",
       "date                                                                          \n",
       "2024-07-26         Небольшой дождь         Небольшой дождь  Небольшой дождь   \n",
       "2024-07-27  Облачно с прояснениями         Небольшой дождь  Небольшой дождь   \n",
       "2024-07-28         Небольшой дождь         Небольшой дождь  Небольшой дождь   \n",
       "2024-07-29         Небольшой дождь         Небольшой дождь  Небольшой дождь   \n",
       "2024-07-30  Облачно с прояснениями  Облачно с прояснениями  Небольшой дождь   \n",
       "\n",
       "                         weather10  \n",
       "date                                \n",
       "2024-07-26         Небольшой дождь  \n",
       "2024-07-27         Небольшой дождь  \n",
       "2024-07-28         Небольшой дождь  \n",
       "2024-07-29  Облачно с прояснениями  \n",
       "2024-07-30  Облачно с прояснениями  \n",
       "\n",
       "[5 rows x 30 columns]"
      ]
     },
     "execution_count": 5,
     "metadata": {},
     "output_type": "execute_result"
    }
   ],
   "source": [
    "table.view(\"Ekaterinburg\",\"Yandex\")"
   ]
  },
  {
   "cell_type": "code",
   "execution_count": 3,
   "metadata": {},
   "outputs": [
    {
     "name": "stdout",
     "output_type": "stream",
     "text": [
      "Enter 'go' to start...\n",
      "GOOD!\n",
      "GOOD!\n",
      "GOOD!\n"
     ]
    }
   ],
   "source": [
    "print(\"Enter 'go' to start...\")\n",
    "input_1 = input()\n",
    "if input_1 == \"go\":\n",
    "    table.update(\"Moscow\",\"GisMeteo\")\n",
    "    table.update(\"Krasnodar\",\"GisMeteo\")\n",
    "    table.update(\"Ekaterinburg\",\"GisMeteo\")\n",
    "else:\n",
    "    raise Exception"
   ]
  },
  {
   "cell_type": "code",
   "execution_count": 6,
   "metadata": {},
   "outputs": [
    {
     "name": "stdout",
     "output_type": "stream",
     "text": [
      "Enter 'go' to start...\n",
      "GOOD!\n",
      "GOOD!\n"
     ]
    }
   ],
   "source": [
    "print(\"Enter 'go' to start...\")\n",
    "input_2 = input()\n",
    "if input_2 == \"go\":\n",
    "    table.update(\"Moscow\",\"Yandex\")\n",
    "    table.update(\"Krasnodar\",\"Yandex\")\n",
    "else:\n",
    "    raise Exception"
   ]
  },
  {
   "cell_type": "code",
   "execution_count": 7,
   "metadata": {},
   "outputs": [
    {
     "name": "stdout",
     "output_type": "stream",
     "text": [
      "Enter 'go' to start...\n",
      "GOOD!\n"
     ]
    }
   ],
   "source": [
    "print(\"Enter 'go' to start...\")\n",
    "input_3 = input()\n",
    "if input_3 == \"go\":\n",
    "    table.update(\"Ekaterinburg\",\"Yandex\")\n",
    "else:\n",
    "    raise Exception"
   ]
  },
  {
   "cell_type": "code",
   "execution_count": 12,
   "metadata": {},
   "outputs": [
    {
     "data": {
      "text/plain": [
       "day1                             21\n",
       "day2                             22\n",
       "day3                             20\n",
       "day4                             21\n",
       "day5                             22\n",
       "day6                             23\n",
       "day7                             24\n",
       "day8                             24\n",
       "day9                             25\n",
       "day10                            25\n",
       "night1                           16\n",
       "night2                           15\n",
       "night3                           15\n",
       "night4                           15\n",
       "night5                           15\n",
       "night6                           16\n",
       "night7                           16\n",
       "night8                           17\n",
       "night9                           16\n",
       "night10                          17\n",
       "weather1                      Дождь\n",
       "weather2                   Пасмурно\n",
       "weather3                   Пасмурно\n",
       "weather4             Дождь с грозой\n",
       "weather5            Небольшой дождь\n",
       "weather6     Облачно с прояснениями\n",
       "weather7     Облачно с прояснениями\n",
       "weather8     Облачно с прояснениями\n",
       "weather9     Облачно с прояснениями\n",
       "weather10    Облачно с прояснениями\n",
       "Name: 2024-07-29, dtype: object"
      ]
     },
     "execution_count": 12,
     "metadata": {},
     "output_type": "execute_result"
    }
   ],
   "source": [
    "forecast = table.datasets[\"Moscow\"][\"Yandex\"].iloc[-1]"
   ]
  },
  {
   "cell_type": "code",
   "execution_count": 17,
   "metadata": {},
   "outputs": [
    {
     "name": "stdout",
     "output_type": "stream",
     "text": [
      "DatetimeIndex(['2024-07-29', '2024-07-30', '2024-07-31', '2024-08-01',\n",
      "               '2024-08-02', '2024-08-03', '2024-08-04', '2024-08-05',\n",
      "               '2024-08-06', '2024-08-07'],\n",
      "              dtype='datetime64[ns]', freq='D')\n"
     ]
    }
   ],
   "source": [
    "date_forecast = table.datasets[\"Moscow\"][\"Yandex\"].index[-1]\n",
    "\n",
    "future_dates = pd.date_range(start=date_forecast, periods=10)\n",
    "\n",
    "print(future_dates)"
   ]
  },
  {
   "cell_type": "code",
   "execution_count": 24,
   "metadata": {},
   "outputs": [
    {
     "name": "stdout",
     "output_type": "stream",
     "text": [
      "{'Гроза', 'Ливень', 'Дождь', 'Облачно с прояснениями', 'Дождь с грозой', 'Ясно', 'Пасмурно', 'Малооблачно', 'Небольшой дождь'}\n"
     ]
    }
   ],
   "source": []
  }
 ],
 "metadata": {
  "kernelspec": {
   "display_name": "Python 3 (ipykernel)",
   "language": "python",
   "name": "python3"
  },
  "language_info": {
   "codemirror_mode": {
    "name": "ipython",
    "version": 3
   },
   "file_extension": ".py",
   "mimetype": "text/x-python",
   "name": "python",
   "nbconvert_exporter": "python",
   "pygments_lexer": "ipython3",
   "version": "3.9.19"
  }
 },
 "nbformat": 4,
 "nbformat_minor": 4
}
